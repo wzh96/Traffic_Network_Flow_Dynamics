{
 "cells": [
  {
   "cell_type": "code",
   "execution_count": 10,
   "metadata": {
    "collapsed": true
   },
   "outputs": [],
   "source": [
    "import numpy as np\n",
    "from matplotlib import pyplot as plt\n",
    "from data_loader import data_loader\n",
    "from utils import params\n",
    "from pydmd import DMD\n",
    "from pydmd.plotter import plot_eigs\n",
    "from sklearn.metrics import mean_squared_error as mse\n",
    "import pandas as pd"
   ]
  },
  {
   "cell_type": "code",
   "execution_count": 11,
   "outputs": [
    {
     "data": {
      "text/plain": "<pydmd.dmd.DMD at 0x7faf30688d60>"
     },
     "execution_count": 11,
     "metadata": {},
     "output_type": "execute_result"
    }
   ],
   "source": [
    "x_train, dx_train, x_val, dx_val = data_loader(params)\n",
    "dmd = DMD(svd_rank=20)\n",
    "dmd.fit(x_train.T)"
   ],
   "metadata": {
    "collapsed": false
   }
  },
  {
   "cell_type": "code",
   "execution_count": 12,
   "outputs": [],
   "source": [
    "measured_index = [i*params['embedding_dimension'] for i in range(params['partial_measurement'])]\n",
    "x_val_measured = x_val[:, measured_index]\n",
    "x_pred = dmd.predict(x_val.T).real.T\n",
    "x_pred_2 = dmd.predict(x_pred.T).real.T\n",
    "x_pred_3 = dmd.predict(x_pred_2.T).real.T"
   ],
   "metadata": {
    "collapsed": false
   }
  },
  {
   "cell_type": "code",
   "execution_count": 13,
   "outputs": [],
   "source": [
    "measured_index = [i*params['embedding_dimension'] for i in range(params['partial_measurement'])]\n",
    "x_pred = x_pred[:, measured_index]\n",
    "x_pred_2 = x_pred_2[:, measured_index]\n",
    "x_pred_3 = x_pred_3[:, measured_index]"
   ],
   "metadata": {
    "collapsed": false
   }
  },
  {
   "cell_type": "code",
   "execution_count": 14,
   "outputs": [],
   "source": [
    "# fig, axs = plt.subplots(nrows=params['partial_measurement'], ncols=1, figsize=(9, 15))\n",
    "# for i in range(params['partial_measurement']):\n",
    "#     axs[i].plot(100*x_pred[:-1, i], label = '5mins Predicted')\n",
    "#     axs[i].plot(100*x_val_measured[1:,i], label = 'Original')\n",
    "#     axs[i].legend()\n",
    "# plt.tight_layout()\n",
    "# plt.show()"
   ],
   "metadata": {
    "collapsed": false
   }
  },
  {
   "cell_type": "code",
   "execution_count": 15,
   "outputs": [],
   "source": [
    "np.save(\"Pred_Results/one_step_pred_DMD.npy\", x_pred)\n",
    "np.save(\"Pred_Results/x_val_DMD.npy\", x_val_measured)"
   ],
   "metadata": {
    "collapsed": false
   }
  },
  {
   "cell_type": "code",
   "execution_count": 16,
   "outputs": [
    {
     "data": {
      "text/plain": "   Station #1  Station #2  Station #3  Station #4  Station #5  Station #6\n1       18.58       18.03       16.26       19.71       19.99       21.21",
      "text/html": "<div>\n<style scoped>\n    .dataframe tbody tr th:only-of-type {\n        vertical-align: middle;\n    }\n\n    .dataframe tbody tr th {\n        vertical-align: top;\n    }\n\n    .dataframe thead th {\n        text-align: right;\n    }\n</style>\n<table border=\"1\" class=\"dataframe\">\n  <thead>\n    <tr style=\"text-align: right;\">\n      <th></th>\n      <th>Station #1</th>\n      <th>Station #2</th>\n      <th>Station #3</th>\n      <th>Station #4</th>\n      <th>Station #5</th>\n      <th>Station #6</th>\n    </tr>\n  </thead>\n  <tbody>\n    <tr>\n      <th>1</th>\n      <td>18.58</td>\n      <td>18.03</td>\n      <td>16.26</td>\n      <td>19.71</td>\n      <td>19.99</td>\n      <td>21.21</td>\n    </tr>\n  </tbody>\n</table>\n</div>"
     },
     "execution_count": 16,
     "metadata": {},
     "output_type": "execute_result"
    }
   ],
   "source": [
    "rmse_i = {}\n",
    "for i in range(params['partial_measurement']):\n",
    "    rmse_curr = np.sqrt(mse(100*x_pred[:-1, i], 100*x_val_measured[1:,i]))\n",
    "    rmse_i[f'Station #{i+1}'] = rmse_curr\n",
    "\n",
    "accuracy = pd.DataFrame(rmse_i, index=[1]).round(2)\n",
    "accuracy.to_csv(\"Accuracy_Metric/dmd.csv\")\n",
    "accuracy"
   ],
   "metadata": {
    "collapsed": false
   }
  },
  {
   "cell_type": "code",
   "execution_count": 17,
   "outputs": [
    {
     "data": {
      "text/plain": "   Station #1  Station #2  Station #3  Station #4  Station #5  Station #6\n1       18.16       17.49       15.86       19.99       20.09       20.63",
      "text/html": "<div>\n<style scoped>\n    .dataframe tbody tr th:only-of-type {\n        vertical-align: middle;\n    }\n\n    .dataframe tbody tr th {\n        vertical-align: top;\n    }\n\n    .dataframe thead th {\n        text-align: right;\n    }\n</style>\n<table border=\"1\" class=\"dataframe\">\n  <thead>\n    <tr style=\"text-align: right;\">\n      <th></th>\n      <th>Station #1</th>\n      <th>Station #2</th>\n      <th>Station #3</th>\n      <th>Station #4</th>\n      <th>Station #5</th>\n      <th>Station #6</th>\n    </tr>\n  </thead>\n  <tbody>\n    <tr>\n      <th>1</th>\n      <td>18.16</td>\n      <td>17.49</td>\n      <td>15.86</td>\n      <td>19.99</td>\n      <td>20.09</td>\n      <td>20.63</td>\n    </tr>\n  </tbody>\n</table>\n</div>"
     },
     "execution_count": 17,
     "metadata": {},
     "output_type": "execute_result"
    }
   ],
   "source": [
    "rmse_i = {}\n",
    "for i in range(params['partial_measurement']):\n",
    "    rmse_curr = np.sqrt(mse(100*x_pred_2[:-2, i], 100*x_val_measured[2:,i]))\n",
    "    rmse_i[f'Station #{i+1}'] = rmse_curr\n",
    "\n",
    "accuracy = pd.DataFrame(rmse_i, index=[1]).round(2)\n",
    "accuracy.to_csv(\"Accuracy_Metric/dmd_10mins.csv\")\n",
    "accuracy"
   ],
   "metadata": {
    "collapsed": false
   }
  },
  {
   "cell_type": "code",
   "execution_count": 18,
   "outputs": [
    {
     "data": {
      "text/plain": "   Station #1  Station #2  Station #3  Station #4  Station #5  Station #6\n1       19.54       17.58       15.49       20.59       20.36       20.12",
      "text/html": "<div>\n<style scoped>\n    .dataframe tbody tr th:only-of-type {\n        vertical-align: middle;\n    }\n\n    .dataframe tbody tr th {\n        vertical-align: top;\n    }\n\n    .dataframe thead th {\n        text-align: right;\n    }\n</style>\n<table border=\"1\" class=\"dataframe\">\n  <thead>\n    <tr style=\"text-align: right;\">\n      <th></th>\n      <th>Station #1</th>\n      <th>Station #2</th>\n      <th>Station #3</th>\n      <th>Station #4</th>\n      <th>Station #5</th>\n      <th>Station #6</th>\n    </tr>\n  </thead>\n  <tbody>\n    <tr>\n      <th>1</th>\n      <td>19.54</td>\n      <td>17.58</td>\n      <td>15.49</td>\n      <td>20.59</td>\n      <td>20.36</td>\n      <td>20.12</td>\n    </tr>\n  </tbody>\n</table>\n</div>"
     },
     "execution_count": 18,
     "metadata": {},
     "output_type": "execute_result"
    }
   ],
   "source": [
    "rmse_i = {}\n",
    "for i in range(params['partial_measurement']):\n",
    "    rmse_curr = np.sqrt(mse(100*x_pred_3[:-3, i], 100*x_val_measured[3:,i]))\n",
    "    rmse_i[f'Station #{i+1}'] = rmse_curr\n",
    "\n",
    "accuracy = pd.DataFrame(rmse_i, index=[1]).round(2)\n",
    "accuracy.to_csv(\"Accuracy_Metric/dmd_15mins.csv\")\n",
    "accuracy"
   ],
   "metadata": {
    "collapsed": false
   }
  },
  {
   "cell_type": "code",
   "execution_count": 18,
   "outputs": [],
   "source": [],
   "metadata": {
    "collapsed": false
   }
  },
  {
   "cell_type": "markdown",
   "source": [
    "# Original DMD"
   ],
   "metadata": {
    "collapsed": false
   }
  },
  {
   "cell_type": "code",
   "execution_count": 19,
   "outputs": [],
   "source": [
    "from data_loader import data_loader_noH\n",
    "x_train, dx_train, x_val, dx_val = data_loader_noH()"
   ],
   "metadata": {
    "collapsed": false
   }
  },
  {
   "cell_type": "code",
   "execution_count": 20,
   "outputs": [
    {
     "data": {
      "text/plain": "<pydmd.dmd.DMD at 0x7faf30688b20>"
     },
     "execution_count": 20,
     "metadata": {},
     "output_type": "execute_result"
    }
   ],
   "source": [
    "dmd = DMD(svd_rank=20)\n",
    "dmd.fit(x_train.T)"
   ],
   "metadata": {
    "collapsed": false
   }
  },
  {
   "cell_type": "code",
   "execution_count": 21,
   "outputs": [],
   "source": [
    "x_pred = dmd.predict(x_val.T).real.T\n",
    "x_pred_2 = dmd.predict(x_pred.T).real.T\n",
    "x_pred_3 = dmd.predict(x_pred_2.T).real.T"
   ],
   "metadata": {
    "collapsed": false
   }
  },
  {
   "cell_type": "code",
   "execution_count": 22,
   "outputs": [
    {
     "data": {
      "text/plain": "   Station #1  Station #2  Station #3  Station #4  Station #5  Station #6\n1       39.08       37.16       27.87       33.95       29.47       29.45",
      "text/html": "<div>\n<style scoped>\n    .dataframe tbody tr th:only-of-type {\n        vertical-align: middle;\n    }\n\n    .dataframe tbody tr th {\n        vertical-align: top;\n    }\n\n    .dataframe thead th {\n        text-align: right;\n    }\n</style>\n<table border=\"1\" class=\"dataframe\">\n  <thead>\n    <tr style=\"text-align: right;\">\n      <th></th>\n      <th>Station #1</th>\n      <th>Station #2</th>\n      <th>Station #3</th>\n      <th>Station #4</th>\n      <th>Station #5</th>\n      <th>Station #6</th>\n    </tr>\n  </thead>\n  <tbody>\n    <tr>\n      <th>1</th>\n      <td>39.08</td>\n      <td>37.16</td>\n      <td>27.87</td>\n      <td>33.95</td>\n      <td>29.47</td>\n      <td>29.45</td>\n    </tr>\n  </tbody>\n</table>\n</div>"
     },
     "execution_count": 22,
     "metadata": {},
     "output_type": "execute_result"
    }
   ],
   "source": [
    "rmse_i = {}\n",
    "for i in range(params['partial_measurement']):\n",
    "    rmse_curr = np.sqrt(mse(100*x_pred[:-1, i], 100*x_val[1:,i]))\n",
    "    rmse_i[f'Station #{i+1}'] = rmse_curr\n",
    "\n",
    "accuracy = pd.DataFrame(rmse_i, index=[1]).round(2)\n",
    "accuracy.to_csv(\"Accuracy_Metric/dmd_ori.csv\")\n",
    "accuracy"
   ],
   "metadata": {
    "collapsed": false
   }
  },
  {
   "cell_type": "code",
   "execution_count": 24,
   "outputs": [
    {
     "data": {
      "text/plain": "   Station #1  Station #2  Station #3  Station #4  Station #5  Station #6\n1        42.9       41.24        34.5       39.14       33.04       34.38",
      "text/html": "<div>\n<style scoped>\n    .dataframe tbody tr th:only-of-type {\n        vertical-align: middle;\n    }\n\n    .dataframe tbody tr th {\n        vertical-align: top;\n    }\n\n    .dataframe thead th {\n        text-align: right;\n    }\n</style>\n<table border=\"1\" class=\"dataframe\">\n  <thead>\n    <tr style=\"text-align: right;\">\n      <th></th>\n      <th>Station #1</th>\n      <th>Station #2</th>\n      <th>Station #3</th>\n      <th>Station #4</th>\n      <th>Station #5</th>\n      <th>Station #6</th>\n    </tr>\n  </thead>\n  <tbody>\n    <tr>\n      <th>1</th>\n      <td>42.9</td>\n      <td>41.24</td>\n      <td>34.5</td>\n      <td>39.14</td>\n      <td>33.04</td>\n      <td>34.38</td>\n    </tr>\n  </tbody>\n</table>\n</div>"
     },
     "execution_count": 24,
     "metadata": {},
     "output_type": "execute_result"
    }
   ],
   "source": [
    "rmse_i = {}\n",
    "for i in range(params['partial_measurement']):\n",
    "    rmse_curr = np.sqrt(mse(100*x_pred_2[:-2, i], 100*x_val[2:,i]))\n",
    "    rmse_i[f'Station #{i+1}'] = rmse_curr\n",
    "\n",
    "accuracy = pd.DataFrame(rmse_i, index=[1]).round(2)\n",
    "accuracy.to_csv(\"Accuracy_Metric/dmd_ori_10mins.csv\")\n",
    "accuracy"
   ],
   "metadata": {
    "collapsed": false
   }
  },
  {
   "cell_type": "code",
   "execution_count": 25,
   "outputs": [
    {
     "data": {
      "text/plain": "   Station #1  Station #2  Station #3  Station #4  Station #5  Station #6\n1       48.06       47.24       38.43       43.66       36.28       37.55",
      "text/html": "<div>\n<style scoped>\n    .dataframe tbody tr th:only-of-type {\n        vertical-align: middle;\n    }\n\n    .dataframe tbody tr th {\n        vertical-align: top;\n    }\n\n    .dataframe thead th {\n        text-align: right;\n    }\n</style>\n<table border=\"1\" class=\"dataframe\">\n  <thead>\n    <tr style=\"text-align: right;\">\n      <th></th>\n      <th>Station #1</th>\n      <th>Station #2</th>\n      <th>Station #3</th>\n      <th>Station #4</th>\n      <th>Station #5</th>\n      <th>Station #6</th>\n    </tr>\n  </thead>\n  <tbody>\n    <tr>\n      <th>1</th>\n      <td>48.06</td>\n      <td>47.24</td>\n      <td>38.43</td>\n      <td>43.66</td>\n      <td>36.28</td>\n      <td>37.55</td>\n    </tr>\n  </tbody>\n</table>\n</div>"
     },
     "execution_count": 25,
     "metadata": {},
     "output_type": "execute_result"
    }
   ],
   "source": [
    "rmse_i = {}\n",
    "for i in range(params['partial_measurement']):\n",
    "    rmse_curr = np.sqrt(mse(100*x_pred_3[:-3, i], 100*x_val[3:,i]))\n",
    "    rmse_i[f'Station #{i+1}'] = rmse_curr\n",
    "\n",
    "accuracy = pd.DataFrame(rmse_i, index=[1]).round(2)\n",
    "accuracy.to_csv(\"Accuracy_Metric/dmd_ori_15mins.csv\")\n",
    "accuracy"
   ],
   "metadata": {
    "collapsed": false
   }
  },
  {
   "cell_type": "code",
   "execution_count": 17,
   "outputs": [],
   "source": [
    "# np.save(\"Pred_Results/one_step_pred_DMDOri.npy\", x_pred)\n",
    "# np.save(\"Pred_Results/x_val_DMDOri.npy\", x_val)"
   ],
   "metadata": {
    "collapsed": false
   }
  },
  {
   "cell_type": "code",
   "execution_count": null,
   "outputs": [],
   "source": [],
   "metadata": {
    "collapsed": false
   }
  }
 ],
 "metadata": {
  "kernelspec": {
   "display_name": "Python 3",
   "language": "python",
   "name": "python3"
  },
  "language_info": {
   "codemirror_mode": {
    "name": "ipython",
    "version": 2
   },
   "file_extension": ".py",
   "mimetype": "text/x-python",
   "name": "python",
   "nbconvert_exporter": "python",
   "pygments_lexer": "ipython2",
   "version": "2.7.6"
  }
 },
 "nbformat": 4,
 "nbformat_minor": 0
}
