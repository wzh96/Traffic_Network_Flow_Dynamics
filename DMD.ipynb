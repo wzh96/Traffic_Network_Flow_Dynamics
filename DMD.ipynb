{
 "cells": [
  {
   "cell_type": "code",
   "execution_count": 23,
   "metadata": {
    "collapsed": true
   },
   "outputs": [],
   "source": [
    "import numpy as np\n",
    "from matplotlib import pyplot as plt\n",
    "from data_loader import data_loader\n",
    "from utils import params\n",
    "from pydmd import DMD\n",
    "from pydmd.plotter import plot_eigs\n",
    "from sklearn.metrics import mean_squared_error as mse\n",
    "import pandas as pd"
   ]
  },
  {
   "cell_type": "code",
   "execution_count": 24,
   "outputs": [],
   "source": [
    "def MAPE(y_true, y_pred):\n",
    "    mask = y_true != 0\n",
    "    y_true, y_pred = np.array(y_true)[mask], np.array(y_pred)[mask]\n",
    "    if len(y_true) == 0:\n",
    "        return np.nan\n",
    "    return np.mean(np.abs((y_true - y_pred) / y_true)) * 100"
   ],
   "metadata": {
    "collapsed": false
   }
  },
  {
   "cell_type": "code",
   "execution_count": 25,
   "outputs": [
    {
     "data": {
      "text/plain": "<pydmd.dmd.DMD at 0x7fc1d567d3d0>"
     },
     "execution_count": 25,
     "metadata": {},
     "output_type": "execute_result"
    }
   ],
   "source": [
    "x_train, dx_train, x_val, dx_val = data_loader(params)\n",
    "dmd = DMD(svd_rank=20)\n",
    "dmd.fit(x_train.T)"
   ],
   "metadata": {
    "collapsed": false
   }
  },
  {
   "cell_type": "code",
   "execution_count": 26,
   "outputs": [],
   "source": [
    "measured_index = [i*params['embedding_dimension'] for i in range(params['partial_measurement'])]\n",
    "x_val_measured = x_val[:, measured_index]\n",
    "x_pred = dmd.predict(x_val.T).real.T\n",
    "x_pred_2 = dmd.predict(x_pred.T).real.T"
   ],
   "metadata": {
    "collapsed": false
   }
  },
  {
   "cell_type": "code",
   "execution_count": 27,
   "outputs": [],
   "source": [
    "measured_index = [i*params['embedding_dimension'] for i in range(params['partial_measurement'])]\n",
    "x_pred = x_pred[:, measured_index]\n",
    "x_pred_2 = x_pred_2[:, measured_index]"
   ],
   "metadata": {
    "collapsed": false
   }
  },
  {
   "cell_type": "code",
   "execution_count": 28,
   "outputs": [],
   "source": [
    "np.save(\"Pred_Results/one_step_pred_DMD.npy\", x_pred)\n",
    "np.save(\"Pred_Results/x_val_DMD.npy\", x_val_measured)"
   ],
   "metadata": {
    "collapsed": false
   }
  },
  {
   "cell_type": "code",
   "execution_count": 29,
   "outputs": [
    {
     "data": {
      "text/plain": "   Station #1  Station #2  Station #3  Station #4  Station #5  Station #6  \\\n1       33.73       26.76       28.13       37.17        44.0        27.7   \n\n   Station #7  Station #8  Station #9  Station #10  \n1       30.48       67.93       24.89        32.09  ",
      "text/html": "<div>\n<style scoped>\n    .dataframe tbody tr th:only-of-type {\n        vertical-align: middle;\n    }\n\n    .dataframe tbody tr th {\n        vertical-align: top;\n    }\n\n    .dataframe thead th {\n        text-align: right;\n    }\n</style>\n<table border=\"1\" class=\"dataframe\">\n  <thead>\n    <tr style=\"text-align: right;\">\n      <th></th>\n      <th>Station #1</th>\n      <th>Station #2</th>\n      <th>Station #3</th>\n      <th>Station #4</th>\n      <th>Station #5</th>\n      <th>Station #6</th>\n      <th>Station #7</th>\n      <th>Station #8</th>\n      <th>Station #9</th>\n      <th>Station #10</th>\n    </tr>\n  </thead>\n  <tbody>\n    <tr>\n      <th>1</th>\n      <td>33.73</td>\n      <td>26.76</td>\n      <td>28.13</td>\n      <td>37.17</td>\n      <td>44.0</td>\n      <td>27.7</td>\n      <td>30.48</td>\n      <td>67.93</td>\n      <td>24.89</td>\n      <td>32.09</td>\n    </tr>\n  </tbody>\n</table>\n</div>"
     },
     "execution_count": 29,
     "metadata": {},
     "output_type": "execute_result"
    }
   ],
   "source": [
    "rmse_i = {}\n",
    "for i in range(params['partial_measurement']):\n",
    "    rmse_curr = np.sqrt(mse(100*x_pred[:-1, i], 100*x_val_measured[1:,i]))\n",
    "    rmse_i[f'Station #{i+1}'] = rmse_curr\n",
    "\n",
    "accuracy = pd.DataFrame(rmse_i, index=[1]).round(2)\n",
    "accuracy.to_csv(\"Accuracy_Metric/dmd.csv\")\n",
    "accuracy"
   ],
   "metadata": {
    "collapsed": false
   }
  },
  {
   "cell_type": "code",
   "execution_count": 30,
   "outputs": [
    {
     "data": {
      "text/plain": "   Station #1  Station #2  Station #3  Station #4  Station #5  Station #6  \\\n1        6.64        6.81        7.14        8.43       12.75       11.64   \n\n   Station #7  Station #8  Station #9  Station #10  \n1       12.08       21.81       12.73        34.55  ",
      "text/html": "<div>\n<style scoped>\n    .dataframe tbody tr th:only-of-type {\n        vertical-align: middle;\n    }\n\n    .dataframe tbody tr th {\n        vertical-align: top;\n    }\n\n    .dataframe thead th {\n        text-align: right;\n    }\n</style>\n<table border=\"1\" class=\"dataframe\">\n  <thead>\n    <tr style=\"text-align: right;\">\n      <th></th>\n      <th>Station #1</th>\n      <th>Station #2</th>\n      <th>Station #3</th>\n      <th>Station #4</th>\n      <th>Station #5</th>\n      <th>Station #6</th>\n      <th>Station #7</th>\n      <th>Station #8</th>\n      <th>Station #9</th>\n      <th>Station #10</th>\n    </tr>\n  </thead>\n  <tbody>\n    <tr>\n      <th>1</th>\n      <td>6.64</td>\n      <td>6.81</td>\n      <td>7.14</td>\n      <td>8.43</td>\n      <td>12.75</td>\n      <td>11.64</td>\n      <td>12.08</td>\n      <td>21.81</td>\n      <td>12.73</td>\n      <td>34.55</td>\n    </tr>\n  </tbody>\n</table>\n</div>"
     },
     "execution_count": 30,
     "metadata": {},
     "output_type": "execute_result"
    }
   ],
   "source": [
    "mape_i = {}\n",
    "for i in range(params['partial_measurement']):\n",
    "    mape_curr = MAPE(100*x_val_measured[1:,i], 100*x_pred[:-1, i])\n",
    "    mape_i[f'Station #{i+1}'] =mape_curr\n",
    "\n",
    "accuracy_mape = pd.DataFrame(mape_i, index=[1]).round(2)\n",
    "accuracy_mape.to_csv(\"Accuracy_Metric/dmd_MAPE.csv\")\n",
    "accuracy_mape"
   ],
   "metadata": {
    "collapsed": false
   }
  },
  {
   "cell_type": "code",
   "execution_count": 31,
   "outputs": [
    {
     "data": {
      "text/plain": "   Station #1  Station #2  Station #3  Station #4  Station #5  Station #6  \\\n1        34.5       27.32       29.35       36.58       42.61       28.04   \n\n   Station #7  Station #8  Station #9  Station #10  \n1       31.38       66.19       25.16        30.69  ",
      "text/html": "<div>\n<style scoped>\n    .dataframe tbody tr th:only-of-type {\n        vertical-align: middle;\n    }\n\n    .dataframe tbody tr th {\n        vertical-align: top;\n    }\n\n    .dataframe thead th {\n        text-align: right;\n    }\n</style>\n<table border=\"1\" class=\"dataframe\">\n  <thead>\n    <tr style=\"text-align: right;\">\n      <th></th>\n      <th>Station #1</th>\n      <th>Station #2</th>\n      <th>Station #3</th>\n      <th>Station #4</th>\n      <th>Station #5</th>\n      <th>Station #6</th>\n      <th>Station #7</th>\n      <th>Station #8</th>\n      <th>Station #9</th>\n      <th>Station #10</th>\n    </tr>\n  </thead>\n  <tbody>\n    <tr>\n      <th>1</th>\n      <td>34.5</td>\n      <td>27.32</td>\n      <td>29.35</td>\n      <td>36.58</td>\n      <td>42.61</td>\n      <td>28.04</td>\n      <td>31.38</td>\n      <td>66.19</td>\n      <td>25.16</td>\n      <td>30.69</td>\n    </tr>\n  </tbody>\n</table>\n</div>"
     },
     "execution_count": 31,
     "metadata": {},
     "output_type": "execute_result"
    }
   ],
   "source": [
    "rmse_i = {}\n",
    "for i in range(params['partial_measurement']):\n",
    "    rmse_curr = np.sqrt(mse(100*x_pred_2[:-2, i], 100*x_val_measured[2:,i]))\n",
    "    rmse_i[f'Station #{i+1}'] = rmse_curr\n",
    "\n",
    "accuracy = pd.DataFrame(rmse_i, index=[1]).round(2)\n",
    "accuracy.to_csv(\"Accuracy_Metric/dmd_10mins.csv\")\n",
    "accuracy"
   ],
   "metadata": {
    "collapsed": false
   }
  },
  {
   "cell_type": "code",
   "execution_count": 32,
   "outputs": [
    {
     "data": {
      "text/plain": "   Station #1  Station #2  Station #3  Station #4  Station #5  Station #6  \\\n1        6.77         6.9        7.49        8.29       12.34       11.33   \n\n   Station #7  Station #8  Station #9  Station #10  \n1       12.08       21.01       14.23        31.49  ",
      "text/html": "<div>\n<style scoped>\n    .dataframe tbody tr th:only-of-type {\n        vertical-align: middle;\n    }\n\n    .dataframe tbody tr th {\n        vertical-align: top;\n    }\n\n    .dataframe thead th {\n        text-align: right;\n    }\n</style>\n<table border=\"1\" class=\"dataframe\">\n  <thead>\n    <tr style=\"text-align: right;\">\n      <th></th>\n      <th>Station #1</th>\n      <th>Station #2</th>\n      <th>Station #3</th>\n      <th>Station #4</th>\n      <th>Station #5</th>\n      <th>Station #6</th>\n      <th>Station #7</th>\n      <th>Station #8</th>\n      <th>Station #9</th>\n      <th>Station #10</th>\n    </tr>\n  </thead>\n  <tbody>\n    <tr>\n      <th>1</th>\n      <td>6.77</td>\n      <td>6.9</td>\n      <td>7.49</td>\n      <td>8.29</td>\n      <td>12.34</td>\n      <td>11.33</td>\n      <td>12.08</td>\n      <td>21.01</td>\n      <td>14.23</td>\n      <td>31.49</td>\n    </tr>\n  </tbody>\n</table>\n</div>"
     },
     "execution_count": 32,
     "metadata": {},
     "output_type": "execute_result"
    }
   ],
   "source": [
    "mape_i = {}\n",
    "for i in range(params['partial_measurement']):\n",
    "    mape_curr = MAPE(100*x_val_measured[2:,i], 100*x_pred_2[:-2, i])\n",
    "    mape_i[f'Station #{i+1}'] =mape_curr\n",
    "\n",
    "accuracy_mape = pd.DataFrame(mape_i, index=[1]).round(2)\n",
    "accuracy_mape.to_csv(\"Accuracy_Metric/dmd_10mins_MAPE.csv\")\n",
    "accuracy_mape"
   ],
   "metadata": {
    "collapsed": false
   }
  },
  {
   "cell_type": "markdown",
   "source": [
    "# Original DMD"
   ],
   "metadata": {
    "collapsed": false
   }
  },
  {
   "cell_type": "code",
   "execution_count": 33,
   "outputs": [],
   "source": [
    "from data_loader import data_loader_noH\n",
    "x_train, dx_train, x_val, dx_val = data_loader_noH()"
   ],
   "metadata": {
    "collapsed": false
   }
  },
  {
   "cell_type": "code",
   "execution_count": 34,
   "outputs": [
    {
     "data": {
      "text/plain": "<pydmd.dmd.DMD at 0x7fc1d5849d60>"
     },
     "execution_count": 34,
     "metadata": {},
     "output_type": "execute_result"
    }
   ],
   "source": [
    "dmd = DMD(svd_rank=20)\n",
    "dmd.fit(x_train.T)"
   ],
   "metadata": {
    "collapsed": false
   }
  },
  {
   "cell_type": "code",
   "execution_count": 35,
   "outputs": [],
   "source": [
    "x_pred = dmd.predict(x_val.T).real.T\n",
    "x_pred_2 = dmd.predict(x_pred.T).real.T\n",
    "x_pred_3 = dmd.predict(x_pred_2.T).real.T"
   ],
   "metadata": {
    "collapsed": false
   }
  },
  {
   "cell_type": "code",
   "execution_count": 36,
   "outputs": [
    {
     "data": {
      "text/plain": "   Station #1  Station #2  Station #3  Station #4  Station #5  Station #6  \\\n1       53.02       41.11       42.52        42.5        56.6       28.38   \n\n   Station #7  Station #8  Station #9  Station #10  \n1       30.69       66.29       26.63        23.58  ",
      "text/html": "<div>\n<style scoped>\n    .dataframe tbody tr th:only-of-type {\n        vertical-align: middle;\n    }\n\n    .dataframe tbody tr th {\n        vertical-align: top;\n    }\n\n    .dataframe thead th {\n        text-align: right;\n    }\n</style>\n<table border=\"1\" class=\"dataframe\">\n  <thead>\n    <tr style=\"text-align: right;\">\n      <th></th>\n      <th>Station #1</th>\n      <th>Station #2</th>\n      <th>Station #3</th>\n      <th>Station #4</th>\n      <th>Station #5</th>\n      <th>Station #6</th>\n      <th>Station #7</th>\n      <th>Station #8</th>\n      <th>Station #9</th>\n      <th>Station #10</th>\n    </tr>\n  </thead>\n  <tbody>\n    <tr>\n      <th>1</th>\n      <td>53.02</td>\n      <td>41.11</td>\n      <td>42.52</td>\n      <td>42.5</td>\n      <td>56.6</td>\n      <td>28.38</td>\n      <td>30.69</td>\n      <td>66.29</td>\n      <td>26.63</td>\n      <td>23.58</td>\n    </tr>\n  </tbody>\n</table>\n</div>"
     },
     "execution_count": 36,
     "metadata": {},
     "output_type": "execute_result"
    }
   ],
   "source": [
    "rmse_i = {}\n",
    "for i in range(params['partial_measurement']):\n",
    "    rmse_curr = np.sqrt(mse(100*x_pred[:-1, i], 100*x_val[1:,i]))\n",
    "    rmse_i[f'Station #{i+1}'] = rmse_curr\n",
    "\n",
    "accuracy = pd.DataFrame(rmse_i, index=[1]).round(2)\n",
    "accuracy.to_csv(\"Accuracy_Metric/dmd_ori.csv\")\n",
    "accuracy"
   ],
   "metadata": {
    "collapsed": false
   }
  },
  {
   "cell_type": "code",
   "execution_count": 37,
   "outputs": [
    {
     "data": {
      "text/plain": "   Station #1  Station #2  Station #3  Station #4  Station #5  Station #6  \\\n1       10.13       11.29       10.59        9.84       18.14       13.53   \n\n   Station #7  Station #8  Station #9  Station #10  \n1       13.97       24.52       14.72        22.85  ",
      "text/html": "<div>\n<style scoped>\n    .dataframe tbody tr th:only-of-type {\n        vertical-align: middle;\n    }\n\n    .dataframe tbody tr th {\n        vertical-align: top;\n    }\n\n    .dataframe thead th {\n        text-align: right;\n    }\n</style>\n<table border=\"1\" class=\"dataframe\">\n  <thead>\n    <tr style=\"text-align: right;\">\n      <th></th>\n      <th>Station #1</th>\n      <th>Station #2</th>\n      <th>Station #3</th>\n      <th>Station #4</th>\n      <th>Station #5</th>\n      <th>Station #6</th>\n      <th>Station #7</th>\n      <th>Station #8</th>\n      <th>Station #9</th>\n      <th>Station #10</th>\n    </tr>\n  </thead>\n  <tbody>\n    <tr>\n      <th>1</th>\n      <td>10.13</td>\n      <td>11.29</td>\n      <td>10.59</td>\n      <td>9.84</td>\n      <td>18.14</td>\n      <td>13.53</td>\n      <td>13.97</td>\n      <td>24.52</td>\n      <td>14.72</td>\n      <td>22.85</td>\n    </tr>\n  </tbody>\n</table>\n</div>"
     },
     "execution_count": 37,
     "metadata": {},
     "output_type": "execute_result"
    }
   ],
   "source": [
    "mape_i = {}\n",
    "for i in range(params['partial_measurement']):\n",
    "    mape_curr = MAPE(100*x_val[1:,i], 100*x_pred[:-1, i])\n",
    "    mape_i[f'Station #{i+1}'] =mape_curr\n",
    "\n",
    "accuracy_mape = pd.DataFrame(mape_i, index=[1]).round(2)\n",
    "accuracy_mape.to_csv(\"Accuracy_Metric/dmd_ori_MAPE.csv\")\n",
    "accuracy_mape"
   ],
   "metadata": {
    "collapsed": false
   }
  },
  {
   "cell_type": "code",
   "execution_count": 38,
   "outputs": [
    {
     "data": {
      "text/plain": "   Station #1  Station #2  Station #3  Station #4  Station #5  Station #6  \\\n1       66.67       51.77       53.06       51.34       68.99       32.71   \n\n   Station #7  Station #8  Station #9  Station #10  \n1       35.31       84.19       32.04        25.78  ",
      "text/html": "<div>\n<style scoped>\n    .dataframe tbody tr th:only-of-type {\n        vertical-align: middle;\n    }\n\n    .dataframe tbody tr th {\n        vertical-align: top;\n    }\n\n    .dataframe thead th {\n        text-align: right;\n    }\n</style>\n<table border=\"1\" class=\"dataframe\">\n  <thead>\n    <tr style=\"text-align: right;\">\n      <th></th>\n      <th>Station #1</th>\n      <th>Station #2</th>\n      <th>Station #3</th>\n      <th>Station #4</th>\n      <th>Station #5</th>\n      <th>Station #6</th>\n      <th>Station #7</th>\n      <th>Station #8</th>\n      <th>Station #9</th>\n      <th>Station #10</th>\n    </tr>\n  </thead>\n  <tbody>\n    <tr>\n      <th>1</th>\n      <td>66.67</td>\n      <td>51.77</td>\n      <td>53.06</td>\n      <td>51.34</td>\n      <td>68.99</td>\n      <td>32.71</td>\n      <td>35.31</td>\n      <td>84.19</td>\n      <td>32.04</td>\n      <td>25.78</td>\n    </tr>\n  </tbody>\n</table>\n</div>"
     },
     "execution_count": 38,
     "metadata": {},
     "output_type": "execute_result"
    }
   ],
   "source": [
    "rmse_i = {}\n",
    "for i in range(params['partial_measurement']):\n",
    "    rmse_curr = np.sqrt(mse(100*x_pred_2[:-2, i], 100*x_val[2:,i]))\n",
    "    rmse_i[f'Station #{i+1}'] = rmse_curr\n",
    "\n",
    "accuracy = pd.DataFrame(rmse_i, index=[1]).round(2)\n",
    "accuracy.to_csv(\"Accuracy_Metric/dmd_ori_10mins.csv\")\n",
    "accuracy"
   ],
   "metadata": {
    "collapsed": false
   }
  },
  {
   "cell_type": "code",
   "execution_count": 39,
   "outputs": [
    {
     "data": {
      "text/plain": "   Station #1  Station #2  Station #3  Station #4  Station #5  Station #6  \\\n1       12.65       14.96        14.0       11.84       23.27       16.93   \n\n   Station #7  Station #8  Station #9  Station #10  \n1        17.3       33.02       17.93        26.32  ",
      "text/html": "<div>\n<style scoped>\n    .dataframe tbody tr th:only-of-type {\n        vertical-align: middle;\n    }\n\n    .dataframe tbody tr th {\n        vertical-align: top;\n    }\n\n    .dataframe thead th {\n        text-align: right;\n    }\n</style>\n<table border=\"1\" class=\"dataframe\">\n  <thead>\n    <tr style=\"text-align: right;\">\n      <th></th>\n      <th>Station #1</th>\n      <th>Station #2</th>\n      <th>Station #3</th>\n      <th>Station #4</th>\n      <th>Station #5</th>\n      <th>Station #6</th>\n      <th>Station #7</th>\n      <th>Station #8</th>\n      <th>Station #9</th>\n      <th>Station #10</th>\n    </tr>\n  </thead>\n  <tbody>\n    <tr>\n      <th>1</th>\n      <td>12.65</td>\n      <td>14.96</td>\n      <td>14.0</td>\n      <td>11.84</td>\n      <td>23.27</td>\n      <td>16.93</td>\n      <td>17.3</td>\n      <td>33.02</td>\n      <td>17.93</td>\n      <td>26.32</td>\n    </tr>\n  </tbody>\n</table>\n</div>"
     },
     "execution_count": 39,
     "metadata": {},
     "output_type": "execute_result"
    }
   ],
   "source": [
    "mape_i = {}\n",
    "for i in range(params['partial_measurement']):\n",
    "    mape_curr = MAPE(100*x_val[2:,i], 100*x_pred_2[:-2, i])\n",
    "    mape_i[f'Station #{i+1}'] =mape_curr\n",
    "\n",
    "accuracy_mape = pd.DataFrame(mape_i, index=[1]).round(2)\n",
    "accuracy_mape.to_csv(\"Accuracy_Metric/dmd_ori_10mins_MAPE.csv\")\n",
    "accuracy_mape"
   ],
   "metadata": {
    "collapsed": false
   }
  },
  {
   "cell_type": "code",
   "execution_count": 40,
   "outputs": [],
   "source": [
    "np.save(\"Pred_Results/one_step_pred_DMDOri.npy\", x_pred)\n",
    "np.save(\"Pred_Results/x_val_DMDOri.npy\", x_val)"
   ],
   "metadata": {
    "collapsed": false
   }
  },
  {
   "cell_type": "code",
   "execution_count": null,
   "outputs": [],
   "source": [],
   "metadata": {
    "collapsed": false
   }
  }
 ],
 "metadata": {
  "kernelspec": {
   "display_name": "Python 3",
   "language": "python",
   "name": "python3"
  },
  "language_info": {
   "codemirror_mode": {
    "name": "ipython",
    "version": 2
   },
   "file_extension": ".py",
   "mimetype": "text/x-python",
   "name": "python",
   "nbconvert_exporter": "python",
   "pygments_lexer": "ipython2",
   "version": "2.7.6"
  }
 },
 "nbformat": 4,
 "nbformat_minor": 0
}
